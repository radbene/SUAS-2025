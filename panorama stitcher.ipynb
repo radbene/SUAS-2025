{
 "cells": [
  {
   "cell_type": "code",
   "id": "d332656cdefc36ea",
   "metadata": {
    "ExecuteTime": {
     "end_time": "2025-04-10T15:37:24.860485Z",
     "start_time": "2025-04-10T15:37:23.701987Z"
    }
   },
   "source": [
    "import os\n",
    "import cv2\n",
    "import matplotlib.pyplot as plt"
   ],
   "outputs": [
    {
     "ename": "ImportError",
     "evalue": "DLL load failed while importing cv2: Nie można odnaleźć określonego modułu.",
     "output_type": "error",
     "traceback": [
      "\u001B[1;31m---------------------------------------------------------------------------\u001B[0m",
      "\u001B[1;31mImportError\u001B[0m                               Traceback (most recent call last)",
      "Cell \u001B[1;32mIn[1], line 2\u001B[0m\n\u001B[0;32m      1\u001B[0m \u001B[38;5;28;01mimport\u001B[39;00m \u001B[38;5;21;01mos\u001B[39;00m\n\u001B[1;32m----> 2\u001B[0m \u001B[38;5;28;01mimport\u001B[39;00m \u001B[38;5;21;01mcv2\u001B[39;00m\n\u001B[0;32m      3\u001B[0m \u001B[38;5;28;01mimport\u001B[39;00m \u001B[38;5;21;01mmatplotlib\u001B[39;00m\u001B[38;5;21;01m.\u001B[39;00m\u001B[38;5;21;01mpyplot\u001B[39;00m \u001B[38;5;28;01mas\u001B[39;00m \u001B[38;5;21;01mplt\u001B[39;00m\n",
      "File \u001B[1;32m~\\AppData\\Local\\Programs\\Python\\Python310\\lib\\site-packages\\cv2\\__init__.py:181\u001B[0m\n\u001B[0;32m    176\u001B[0m             \u001B[38;5;28;01mif\u001B[39;00m DEBUG: \u001B[38;5;28mprint\u001B[39m(\u001B[38;5;124m\"\u001B[39m\u001B[38;5;124mExtra Python code for\u001B[39m\u001B[38;5;124m\"\u001B[39m, submodule, \u001B[38;5;124m\"\u001B[39m\u001B[38;5;124mis loaded\u001B[39m\u001B[38;5;124m\"\u001B[39m)\n\u001B[0;32m    178\u001B[0m     \u001B[38;5;28;01mif\u001B[39;00m DEBUG: \u001B[38;5;28mprint\u001B[39m(\u001B[38;5;124m'\u001B[39m\u001B[38;5;124mOpenCV loader: DONE\u001B[39m\u001B[38;5;124m'\u001B[39m)\n\u001B[1;32m--> 181\u001B[0m \u001B[43mbootstrap\u001B[49m\u001B[43m(\u001B[49m\u001B[43m)\u001B[49m\n",
      "File \u001B[1;32m~\\AppData\\Local\\Programs\\Python\\Python310\\lib\\site-packages\\cv2\\__init__.py:153\u001B[0m, in \u001B[0;36mbootstrap\u001B[1;34m()\u001B[0m\n\u001B[0;32m    149\u001B[0m \u001B[38;5;28;01mif\u001B[39;00m DEBUG: \u001B[38;5;28mprint\u001B[39m(\u001B[38;5;124m\"\u001B[39m\u001B[38;5;124mRelink everything from native cv2 module to cv2 package\u001B[39m\u001B[38;5;124m\"\u001B[39m)\n\u001B[0;32m    151\u001B[0m py_module \u001B[38;5;241m=\u001B[39m sys\u001B[38;5;241m.\u001B[39mmodules\u001B[38;5;241m.\u001B[39mpop(\u001B[38;5;124m\"\u001B[39m\u001B[38;5;124mcv2\u001B[39m\u001B[38;5;124m\"\u001B[39m)\n\u001B[1;32m--> 153\u001B[0m native_module \u001B[38;5;241m=\u001B[39m \u001B[43mimportlib\u001B[49m\u001B[38;5;241;43m.\u001B[39;49m\u001B[43mimport_module\u001B[49m\u001B[43m(\u001B[49m\u001B[38;5;124;43m\"\u001B[39;49m\u001B[38;5;124;43mcv2\u001B[39;49m\u001B[38;5;124;43m\"\u001B[39;49m\u001B[43m)\u001B[49m\n\u001B[0;32m    155\u001B[0m sys\u001B[38;5;241m.\u001B[39mmodules[\u001B[38;5;124m\"\u001B[39m\u001B[38;5;124mcv2\u001B[39m\u001B[38;5;124m\"\u001B[39m] \u001B[38;5;241m=\u001B[39m py_module\n\u001B[0;32m    156\u001B[0m \u001B[38;5;28msetattr\u001B[39m(py_module, \u001B[38;5;124m\"\u001B[39m\u001B[38;5;124m_native\u001B[39m\u001B[38;5;124m\"\u001B[39m, native_module)\n",
      "File \u001B[1;32m~\\AppData\\Local\\Programs\\Python\\Python310\\lib\\importlib\\__init__.py:126\u001B[0m, in \u001B[0;36mimport_module\u001B[1;34m(name, package)\u001B[0m\n\u001B[0;32m    124\u001B[0m             \u001B[38;5;28;01mbreak\u001B[39;00m\n\u001B[0;32m    125\u001B[0m         level \u001B[38;5;241m+\u001B[39m\u001B[38;5;241m=\u001B[39m \u001B[38;5;241m1\u001B[39m\n\u001B[1;32m--> 126\u001B[0m \u001B[38;5;28;01mreturn\u001B[39;00m \u001B[43m_bootstrap\u001B[49m\u001B[38;5;241;43m.\u001B[39;49m\u001B[43m_gcd_import\u001B[49m\u001B[43m(\u001B[49m\u001B[43mname\u001B[49m\u001B[43m[\u001B[49m\u001B[43mlevel\u001B[49m\u001B[43m:\u001B[49m\u001B[43m]\u001B[49m\u001B[43m,\u001B[49m\u001B[43m \u001B[49m\u001B[43mpackage\u001B[49m\u001B[43m,\u001B[49m\u001B[43m \u001B[49m\u001B[43mlevel\u001B[49m\u001B[43m)\u001B[49m\n",
      "\u001B[1;31mImportError\u001B[0m: DLL load failed while importing cv2: Nie można odnaleźć określonego modułu."
     ]
    }
   ],
   "execution_count": 1
  },
  {
   "metadata": {
    "ExecuteTime": {
     "end_time": "2025-03-16T14:17:38.641821Z",
     "start_time": "2025-03-16T14:17:38.631739Z"
    }
   },
   "cell_type": "code",
   "source": [
    "def get_image_files(directory=\".\"):\n",
    "    \"\"\"\n",
    "    Finds all image files in the specified directory.\n",
    "    \"\"\"\n",
    "    image_extensions = ('.jpg', '.jpeg', '.png', '.bmp')\n",
    "    image_files = [os.path.join(directory, f) for f in os.listdir(directory)\n",
    "                   if f.lower().endswith(image_extensions)]\n",
    "    return sorted(image_files)  # Sort to maintain order\n"
   ],
   "id": "2e934ded4d67bcef",
   "outputs": [],
   "execution_count": 10
  },
  {
   "metadata": {
    "ExecuteTime": {
     "end_time": "2025-03-16T14:17:44.153868Z",
     "start_time": "2025-03-16T14:17:41.872493Z"
    }
   },
   "cell_type": "code",
   "source": [
    "images = get_image_files(\"\")    # Path to directory with photos\n",
    "images = [cv2.imread(i) for i in images]\n",
    "images = [cv2.cvtColor(i, cv2.COLOR_RGB2BGR) for i in images]\n",
    "print(len(images))"
   ],
   "id": "605d0c99851d094f",
   "outputs": [
    {
     "name": "stdout",
     "output_type": "stream",
     "text": [
      "25\n"
     ]
    }
   ],
   "execution_count": 11
  },
  {
   "metadata": {
    "collapsed": true,
    "ExecuteTime": {
     "end_time": "2025-03-16T14:12:26.542825Z",
     "start_time": "2025-03-16T14:12:26.509826Z"
    }
   },
   "cell_type": "code",
   "source": [
    "#plt.imshow(cv2.cvtColor(images[0],cv2.COLOR_BGR2RGB))\n",
    "# Create a Stitcher object\n",
    "stitcher = cv2.Stitcher.create(cv2.Stitcher_SCANS)  # Mode can be set to Stitcher_PANORAMA or Stitcher_SCANS\n",
    "stitcher.setFeatureFinder(cv2.detail_SIFT())\n",
    "\n",
    "# Convert images to BGR (OpenCV format)\n",
    "#img1_bgr = cv2.cvtColor(query_photo, cv2.COLOR_RGB2BGR)\n",
    "#img2_bgr = cv2.cvtColor(train_photo, cv2.COLOR_RGB2BGR)\n",
    "\n",
    "# Let OpenCV stitch the images with built-in blending\n",
    "status, result_bgr = stitcher.stitch(images)\n",
    "\n",
    "if status == cv2.Stitcher_OK:\n",
    "    # Convert back to RGB for matplotlib\n",
    "    result = cv2.cvtColor(result_bgr, cv2.COLOR_BGR2RGB)\n",
    "\n",
    "    plt.figure(figsize=(20, 8))\n",
    "    plt.axis('off')\n",
    "    cv2.imwrite(\"./result.jpg\", result)\n",
    "    plt.imshow(result)\n",
    "else:\n",
    "    print(\"Stitching failed with error code:\", status)\n",
    "\n",
    "    #result = seam_find_blend(query_photo, train_photo, homography_matrix)\n",
    "\n",
    "    #plt.figure(figsize=(20, 8))\n",
    "    #plt.axis('off')\n",
    "    #plt.imshow(result)"
   ],
   "id": "initial_id",
   "outputs": [
    {
     "ename": "AttributeError",
     "evalue": "'cv2.Stitcher' object has no attribute 'setFeatureFinder'",
     "output_type": "error",
     "traceback": [
      "\u001B[1;31m---------------------------------------------------------------------------\u001B[0m",
      "\u001B[1;31mAttributeError\u001B[0m                            Traceback (most recent call last)",
      "Cell \u001B[1;32mIn[6], line 4\u001B[0m\n\u001B[0;32m      1\u001B[0m \u001B[38;5;66;03m#plt.imshow(cv2.cvtColor(images[0],cv2.COLOR_BGR2RGB))\u001B[39;00m\n\u001B[0;32m      2\u001B[0m \u001B[38;5;66;03m# Create a Stitcher object\u001B[39;00m\n\u001B[0;32m      3\u001B[0m stitcher \u001B[38;5;241m=\u001B[39m cv2\u001B[38;5;241m.\u001B[39mStitcher\u001B[38;5;241m.\u001B[39mcreate(cv2\u001B[38;5;241m.\u001B[39mStitcher_SCANS)  \u001B[38;5;66;03m# mode can be Stitcher_PANORAMA or Stitcher_SCANS\u001B[39;00m\n\u001B[1;32m----> 4\u001B[0m \u001B[43mstitcher\u001B[49m\u001B[38;5;241;43m.\u001B[39;49m\u001B[43msetFeatureFinder\u001B[49m(cv2\u001B[38;5;241m.\u001B[39mdetail_SIFT())\n\u001B[0;32m      6\u001B[0m \u001B[38;5;66;03m# Convert images to BGR (OpenCV format)\u001B[39;00m\n\u001B[0;32m      7\u001B[0m \u001B[38;5;66;03m#img1_bgr = cv2.cvtColor(query_photo, cv2.COLOR_RGB2BGR)\u001B[39;00m\n\u001B[0;32m      8\u001B[0m \u001B[38;5;66;03m#img2_bgr = cv2.cvtColor(train_photo, cv2.COLOR_RGB2BGR)\u001B[39;00m\n\u001B[0;32m      9\u001B[0m \n\u001B[0;32m     10\u001B[0m \u001B[38;5;66;03m# Let OpenCV stitch the images with built-in blending\u001B[39;00m\n\u001B[0;32m     11\u001B[0m status, result_bgr \u001B[38;5;241m=\u001B[39m stitcher\u001B[38;5;241m.\u001B[39mstitch(images)\n",
      "\u001B[1;31mAttributeError\u001B[0m: 'cv2.Stitcher' object has no attribute 'setFeatureFinder'"
     ]
    }
   ],
   "execution_count": 6
  }
 ],
 "metadata": {
  "kernelspec": {
   "display_name": "Python 3",
   "language": "python",
   "name": "python3"
  },
  "language_info": {
   "codemirror_mode": {
    "name": "ipython",
    "version": 2
   },
   "file_extension": ".py",
   "mimetype": "text/x-python",
   "name": "python",
   "nbconvert_exporter": "python",
   "pygments_lexer": "ipython2",
   "version": "2.7.6"
  }
 },
 "nbformat": 4,
 "nbformat_minor": 5
}
