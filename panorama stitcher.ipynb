{
 "cells": [
  {
   "cell_type": "code",
   "id": "d332656cdefc36ea",
   "metadata": {},
   "source": [
    "import os\n",
    "import cv2\n",
    "import matplotlib.pyplot as plt"
   ],
   "outputs": [],
   "execution_count": null
  },
  {
   "metadata": {},
   "cell_type": "code",
   "source": [
    "def get_image_files(directory=\".\"):\n",
    "    \"\"\"\n",
    "    Finds all image files in the specified directory.\n",
    "    \"\"\"\n",
    "    image_extensions = ('.jpg', '.jpeg', '.png', '.bmp')\n",
    "    image_files = [os.path.join(directory, f) for f in os.listdir(directory)\n",
    "                   if f.lower().endswith(image_extensions)]\n",
    "    return sorted(image_files)  # Sort to maintain order\n"
   ],
   "id": "2e934ded4d67bcef",
   "outputs": [],
   "execution_count": null
  },
  {
   "metadata": {},
   "cell_type": "code",
   "source": [
    "images = get_image_files(\"\")    # Path to directory with photos\n",
    "images = [cv2.imread(i) for i in images]\n",
    "images = [cv2.cvtColor(i, cv2.COLOR_RGB2BGR) for i in images]\n",
    "print(len(images))"
   ],
   "id": "605d0c99851d094f",
   "outputs": [],
   "execution_count": null
  },
  {
   "metadata": {
    "collapsed": true
   },
   "cell_type": "code",
   "source": [
    "#plt.imshow(cv2.cvtColor(images[0],cv2.COLOR_BGR2RGB))\n",
    "# Create a Stitcher object\n",
    "stitcher = cv2.Stitcher.create(cv2.Stitcher_SCANS)  # Mode can be set to Stitcher_PANORAMA or Stitcher_SCANS\n",
    "stitcher.setFeatureFinder(cv2.detail_SIFT())\n",
    "\n",
    "# Convert images to BGR (OpenCV format)\n",
    "#img1_bgr = cv2.cvtColor(query_photo, cv2.COLOR_RGB2BGR)\n",
    "#img2_bgr = cv2.cvtColor(train_photo, cv2.COLOR_RGB2BGR)\n",
    "\n",
    "# Let OpenCV stitch the images with built-in blending\n",
    "status, result_bgr = stitcher.stitch(images)\n",
    "\n",
    "if status == cv2.Stitcher_OK:\n",
    "    # Convert back to RGB for matplotlib\n",
    "    result = cv2.cvtColor(result_bgr, cv2.COLOR_BGR2RGB)\n",
    "\n",
    "    plt.figure(figsize=(20, 8))\n",
    "    plt.axis('off')\n",
    "    cv2.imwrite(\"./result.jpg\", result)\n",
    "    plt.imshow(result)\n",
    "else:\n",
    "    print(\"Stitching failed with error code:\", status)\n",
    "\n",
    "    #result = seam_find_blend(query_photo, train_photo, homography_matrix)\n",
    "\n",
    "    #plt.figure(figsize=(20, 8))\n",
    "    #plt.axis('off')\n",
    "    #plt.imshow(result)"
   ],
   "id": "initial_id",
   "outputs": [],
   "execution_count": null
  }
 ],
 "metadata": {
  "kernelspec": {
   "display_name": "Python 3",
   "language": "python",
   "name": "python3"
  },
  "language_info": {
   "codemirror_mode": {
    "name": "ipython",
    "version": 2
   },
   "file_extension": ".py",
   "mimetype": "text/x-python",
   "name": "python",
   "nbconvert_exporter": "python",
   "pygments_lexer": "ipython2",
   "version": "2.7.6"
  }
 },
 "nbformat": 4,
 "nbformat_minor": 5
}
